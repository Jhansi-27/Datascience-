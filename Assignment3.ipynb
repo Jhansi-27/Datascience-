{
 "cells": [
  {
   "cell_type": "markdown",
   "metadata": {},
   "source": [
    "### 1.1 Write a python program to impliment your own myreduce() function which works exactly like python's built-in function reduce()"
   ]
  },
  {
   "cell_type": "code",
   "execution_count": 21,
   "metadata": {},
   "outputs": [],
   "source": [
    "# Docstring explaining built in reduce function\n",
    "# reduce(function, sequence[, initial]) -> value\n",
    "\n",
    "\"\"\"Apply a function of two arguments cumulatively to the items of a sequence,\n",
    "from left to right, so as to reduce the sequence to a single value.\n",
    "\"\"\""
   ]
  },
  {
   "cell_type": "code",
   "execution_count": 9,
   "metadata": {},
   "outputs": [],
   "source": [
    "from functools import reduce\n",
    "\n",
    "# creating own my_reduce() function\n",
    "\n",
    "def my_reduce(anyfunc,anyseq):\n",
    "    first = anyseq[0]\n",
    "    for i in anyseq[1:]:\n",
    "        first = anyfunc(first,i)\n",
    "    return first"
   ]
  },
  {
   "cell_type": "code",
   "execution_count": 10,
   "metadata": {},
   "outputs": [],
   "source": [
    "# creating a function that performs sum operation \n",
    "def summ(x,y):\n",
    "    return x+y"
   ]
  },
  {
   "cell_type": "code",
   "execution_count": 11,
   "metadata": {},
   "outputs": [],
   "source": [
    "# creating a function that finds the largest number\n",
    "def large(x,y):\n",
    "    if x > y:\n",
    "        return x\n",
    "    else:\n",
    "        return y"
   ]
  },
  {
   "cell_type": "code",
   "execution_count": 12,
   "metadata": {},
   "outputs": [
    {
     "name": "stdout",
     "output_type": "stream",
     "text": [
      "The sum of given list is: 61\n",
      "Greater number in given list is: 51\n"
     ]
    }
   ],
   "source": [
    "# calling my_reduce function\n",
    "ls = [1,2,3,4,51]\n",
    "print('The sum of given list is:',my_reduce(summ,ls))\n",
    "print('Greater number in given list is:',my_reduce(large,ls))"
   ]
  },
  {
   "cell_type": "code",
   "execution_count": 13,
   "metadata": {},
   "outputs": [
    {
     "name": "stdout",
     "output_type": "stream",
     "text": [
      "The sum of given list is: 61\n",
      "Greater number in given list is: 51\n"
     ]
    }
   ],
   "source": [
    "# Cross Checking using built in reduce function\n",
    "print('The sum of given list is:',reduce(summ,ls))\n",
    "print('Greater number in given list is:',reduce(large,ls))"
   ]
  },
  {
   "cell_type": "markdown",
   "metadata": {},
   "source": [
    "### 1.2 Write a python program to impliment your own myfilter() function which works exactly like python's built-in function filter()"
   ]
  },
  {
   "cell_type": "code",
   "execution_count": 14,
   "metadata": {},
   "outputs": [
    {
     "data": {
      "text/plain": [
       "'Return an iterator yielding those items of iterable for which function(item) is true.\\n    If function is None, return the items that are true.\\n'"
      ]
     },
     "execution_count": 14,
     "metadata": {},
     "output_type": "execute_result"
    }
   ],
   "source": [
    "# Docstring explaining built in filter function\n",
    "# filter(function or None, iterable) --> filter object\n",
    "\n",
    "\"\"\"Return an iterator yielding those items of iterable for which function(item) is true.\n",
    "    If function is None, return the items that are true.\n",
    "\"\"\""
   ]
  },
  {
   "cell_type": "code",
   "execution_count": 15,
   "metadata": {},
   "outputs": [],
   "source": [
    "# Creating own filter function()\n",
    "\n",
    "def my_filter(func,seq):\n",
    "    for item in seq:\n",
    "        if func(item) == True:\n",
    "            yield item\n",
    "    return()"
   ]
  },
  {
   "cell_type": "code",
   "execution_count": 16,
   "metadata": {},
   "outputs": [],
   "source": [
    "\"\"\"A special two-digit number is a number such that when the \n",
    "sum of the digits of the number is added to the product of its\n",
    "digits,the result is equal to the original two-digit number.\"\"\"\n",
    "\n",
    "def special_number_two(x):    \n",
    "    \n",
    "    first = int(x/10)\n",
    "    second = x%10\n",
    "    add = first+second\n",
    "    prod = first*second\n",
    "    final = add + prod\n",
    "    \n",
    "    return x == final\n",
    "\n",
    "\"\"\"A palindrome is a word, number, phrase, or other sequence\n",
    "of characters which reads the same backward as forward,\n",
    "\"\"\"\n",
    "def palindrome(x):\n",
    "    \n",
    "    return x == x[::-1]"
   ]
  },
  {
   "cell_type": "code",
   "execution_count": 17,
   "metadata": {},
   "outputs": [
    {
     "name": "stdout",
     "output_type": "stream",
     "text": [
      "Special numbers in given list are: \n",
      "[29, 89, 39] \n",
      "\n",
      "Palindromic sequences in given list are:\n",
      "['pop', 'ATGCCGTA', 'mom', '121']\n"
     ]
    }
   ],
   "source": [
    "# calling my filter function\n",
    "\n",
    "a = [29,44,89,32,11,39,27]\n",
    "print('Special numbers in given list are: ')\n",
    "print(list(my_filter(special_number_two,a)),'\\n')\n",
    "\n",
    "b = ['geek','pop','ATGCCGTA','mom','python','121','433']\n",
    "print('Palindromic sequences in given list are:')\n",
    "print(list(my_filter(palindrome,b)))"
   ]
  },
  {
   "cell_type": "code",
   "execution_count": 18,
   "metadata": {},
   "outputs": [
    {
     "name": "stdout",
     "output_type": "stream",
     "text": [
      "Special numbers in given list are: \n",
      "[29, 89, 39] \n",
      "\n",
      "Palindromic sequences in given list are:\n",
      "['pop', 'ATGCCGTA', 'mom', '121']\n"
     ]
    }
   ],
   "source": [
    "# CROSS CHECKING using built in filter() function \n",
    "print('Special numbers in given list are: ')\n",
    "print(list(filter(special_number_two,a)),'\\n')\n",
    "\n",
    "print('Palindromic sequences in given list are:')\n",
    "print(list(filter(palindrome,b)))"
   ]
  },
  {
   "cell_type": "markdown",
   "metadata": {},
   "source": [
    "### Impliment List comprehensions to produce the following lists. Write List comprehensions to produce the following lists."
   ]
  },
  {
   "cell_type": "code",
   "execution_count": 19,
   "metadata": {},
   "outputs": [],
   "source": [
    "#1. ['x','xx','xxx','xxxx','y','yy','yyy','yyyy','z','zz','zzz','zzzz']\n",
    "#2. ['x','y','z','xx','yy','zz','xxx','yyy','zzz','xxxx',''yyyy','zzzz']\n",
    "#3. [[2],[3],[4],[3],[4],[5],[4],[5],[6]] \n",
    "#4. [[2,3,4,5],[3,4,5,6],[4,5,6,7],[5,6,7,8]]\n",
    "#4. [(1,1),(2,1),(3,1),(1,2),(2,2),(3,2),(1,3),(2,3),(3,3)]"
   ]
  },
  {
   "cell_type": "code",
   "execution_count": 20,
   "metadata": {},
   "outputs": [
    {
     "data": {
      "text/plain": [
       "['x', 'xx', 'xxx', 'xxxx', 'y', 'yy', 'yyy', 'yyyy', 'z', 'zz', 'zzz', 'zzzz']"
      ]
     },
     "execution_count": 20,
     "metadata": {},
     "output_type": "execute_result"
    }
   ],
   "source": [
    "seq = 'xyz'\n",
    "[i*j for i in seq for j in range(1,5)]"
   ]
  },
  {
   "cell_type": "code",
   "execution_count": 21,
   "metadata": {},
   "outputs": [
    {
     "data": {
      "text/plain": [
       "['x', 'y', 'z', 'xx', 'yy', 'zz', 'xxx', 'yyy', 'zzz', 'xxxx', 'yyyy', 'zzzz']"
      ]
     },
     "execution_count": 21,
     "metadata": {},
     "output_type": "execute_result"
    }
   ],
   "source": [
    "[j* i for i in range(1,5) for j in seq]"
   ]
  },
  {
   "cell_type": "code",
   "execution_count": 22,
   "metadata": {},
   "outputs": [
    {
     "data": {
      "text/plain": [
       "[[2], [3], [4], [3], [4], [5], [4], [5], [6]]"
      ]
     },
     "execution_count": 22,
     "metadata": {},
     "output_type": "execute_result"
    }
   ],
   "source": [
    "[[i+j] for i in range(2,5) for j in range(3)]"
   ]
  },
  {
   "cell_type": "code",
   "execution_count": 23,
   "metadata": {},
   "outputs": [
    {
     "name": "stdout",
     "output_type": "stream",
     "text": [
      "[[2, 3, 4, 5], [3, 4, 5, 6], [4, 5, 6, 7], [5, 6, 7, 8]]\n"
     ]
    }
   ],
   "source": [
    "print([[i+j for i in range(2,6)] for j in range(4)])\n",
    "#b = [2,3,4,5]\n",
    "#print([[i+j for i in b] for j in range(4)])"
   ]
  },
  {
   "cell_type": "code",
   "execution_count": 24,
   "metadata": {},
   "outputs": [
    {
     "data": {
      "text/plain": [
       "[(1, 1), (2, 1), (3, 1), (1, 2), (2, 2), (3, 2), (1, 3), (2, 3), (3, 3)]"
      ]
     },
     "execution_count": 24,
     "metadata": {},
     "output_type": "execute_result"
    }
   ],
   "source": [
    "[(j,i) for i in range(1,4) for j in range(1,4)]"
   ]
  },
  {
   "cell_type": "code",
   "execution_count": null,
   "metadata": {},
   "outputs": [],
   "source": []
  }
 ],
 "metadata": {
  "kernelspec": {
   "display_name": "Python 3",
   "language": "python",
   "name": "python3"
  },
  "language_info": {
   "codemirror_mode": {
    "name": "ipython",
    "version": 3
   },
   "file_extension": ".py",
   "mimetype": "text/x-python",
   "name": "python",
   "nbconvert_exporter": "python",
   "pygments_lexer": "ipython3",
   "version": "3.7.4"
  }
 },
 "nbformat": 4,
 "nbformat_minor": 2
}
